{
 "cells": [
  {
   "cell_type": "markdown",
   "id": "f7ad5efd-c777-4c68-ba22-45e4349a2d20",
   "metadata": {},
   "source": [
    "### Hein Lab Data Filtering Pipeline ###\n",
    "**Tianyi Chen, January 2025**\n",
    "\n",
    "Objective: Program for Abigail Grassick, Phd student at Hein Lab of Computational Ecology at Cornell University.\n",
    "This program will be utilized to sift through thousands of clips of marine video data within zip files. The program will extract and filter the most accurate video data to train a computer vision model. \n",
    "\n",
    "The program will:\n",
    "\n",
    "**Part 1**\n",
    "1. Asks for then accesses a Zip File. Precondition: Zip File is filled with valid video files, all of which are titled (not untitled).\n",
    "2. Sorts videos by length (largest file size to smallest file size).\n",
    "3. Assigns index numbers to each video by creating a dataframe of video title to corresponding index number.\n",
    "4. Creates a list with the 20 longest video *titles*.\n",
    "5. Selects a random 20 videos from the remaining videos (not 20 longest).\n",
    "6. Appends the 20 randomly chosen video *titles* to the list.\n",
    "\n",
    "The returned list will be a list of 40 video *titles*\n",
    "\n",
    "**Part 2**\n",
    "1. Create a new folder and put those video files in it\n",
    "2. Asks for user input for folder name"
   ]
  },
  {
   "cell_type": "code",
   "execution_count": 5,
   "id": "41e4187a-1290-4300-a052-5cd2a7b05461",
   "metadata": {},
   "outputs": [],
   "source": [
    "#import packages\n",
    "import zipfile\n",
    "#This library helps us access zip files\n",
    "import os\n",
    "#os helps us check file paths\n",
    "import pandas as pd\n",
    "#pandas will help us extract data\n",
    "import shutil\n",
    "#this will help us copy the tracks to a new folder\n",
    "\n",
    "import argparse\n"
   ]
  },
  {
   "cell_type": "code",
   "execution_count": 6,
   "id": "12d564d0-2f81-41ff-942d-a48dfaaee424",
   "metadata": {},
   "outputs": [],
   "source": [
    "#helper function for file path validation\n",
    "def validatepath(zipfilepath):\n",
    "    '''Validates if the user's provided path points to a zip file.\n",
    "    Precondition: zipfilepath is a string and is the path to the zip file.\n",
    "    Returns True if the path is valid and raises an error otherwise.'''\n",
    "    \n",
    "    #Check if the zipfile is valid: \n",
    "    if not os.path.exists(zipfilepath):  \n",
    "        raise FileNotFoundError(\"Your file path does not exist.\")\n",
    "    elif not os.path.isfile(zipfilepath):\n",
    "        raise IsADirectoryError(\"Unsupported type; your path leads to a folder.\")\n",
    "    elif not zipfilepath.endswith('.zip'):\n",
    "        raise TypeError(\"Unsupported type; your path does not lead to a zip file.\")\n",
    "    return True"
   ]
  },
  {
   "cell_type": "code",
   "execution_count": 7,
   "id": "1e36daae-acfe-49fa-bbbd-bdca140bcd48",
   "metadata": {},
   "outputs": [],
   "source": [
    "#helper function to ensure zip file is openable\n",
    "def validatezip(zipfilepath):\n",
    "    '''Ensures that the zip file pointed to by a path is valid and openable.\n",
    "    Precondition: zipfilepath is a string, the path to the zip file.\n",
    "    Returns a success statement and opens the zip file, or returns an error message.'''\n",
    "    try:\n",
    "        zipfile.ZipFile(zipfilepath, mode='r')\n",
    "        return True\n",
    "    except zipfile.BadZipfile:\n",
    "        (\"The zip file is a bad zip file.\")\n",
    "    except FileNotFoundError:\n",
    "        print(\"The zip file doesn't exist.\")\n",
    "    except Exception as e:\n",
    "        print(\"Error.\")"
   ]
  },
  {
   "cell_type": "markdown",
   "id": "e2ba5af3",
   "metadata": {},
   "source": [
    "A note about the zip file path:\n",
    "\n",
    "The bite detection pipeline outputs videos in the following directory format \"/videotitle/local/workdir/agg75/feeding_detection\". In order to extract the videos from the final \"feeding detection\" directory, you can either un zip the file, remove this directory, rename and rezip the file or you can run the following code block to extract the videos and rezip the file."
   ]
  },
  {
   "cell_type": "code",
   "execution_count": null,
   "id": "c792eecd",
   "metadata": {},
   "outputs": [],
   "source": [
    "!python extract-rename-rezip.py videotitle.zip"
   ]
  },
  {
   "cell_type": "code",
   "execution_count": 10,
   "id": "e541dcd1-4c56-4471-9b4c-039d62f60481",
   "metadata": {},
   "outputs": [
    {
     "name": "stdin",
     "output_type": "stream",
     "text": [
      "Input zip file path: /Users/abigailgrassick/Desktop/eco_scaling/bite_validation/processed/ground_truth_GX017103.zip\n"
     ]
    }
   ],
   "source": [
    "#Get user input set the string name of the zipfilepath\n",
    "zipfilepath = input(\"Input zip file path:\").strip() #use strip to take away blank spaces\n",
    "\n",
    "#Open zip file if no other errors arise\n",
    "if validatepath(zipfilepath) and validatezip(zipfilepath):\n",
    "    openfile = zipfile.ZipFile(zipfilepath, mode='r')\n",
    "else:\n",
    "    print(\"Error.\")"
   ]
  },
  {
   "cell_type": "code",
   "execution_count": 11,
   "id": "7955d902-7b82-47c1-bb0c-815d66fb5521",
   "metadata": {},
   "outputs": [],
   "source": [
    "#sorting the videos by length. (WIP)\n",
    "list_of_videonames = openfile.namelist()\n",
    "\n",
    "#extract _MACOSX files, which are metadata files \n",
    "for videoname in list_of_videonames:\n",
    "    if '__MACOSX' in videoname:\n",
    "        list_of_videonames.remove(videoname)\n",
    "    #take away the file path\n",
    "\n",
    "list_of_videosizes = []\n",
    "\n",
    "#create video sizes\n",
    "for videoname in list_of_videonames:\n",
    "    #extract the information from the videoname \n",
    "    info = openfile.getinfo(videoname)\n",
    "    #extract the size from the information object\n",
    "    list_of_videosizes.append(info.file_size)\n",
    "\n",
    "#concatonate and transpose using {}\n",
    "data_names_sizes = {'Video Names': list_of_videonames, 'Video Sizes': list_of_videosizes}\n",
    "\n",
    "#create a dataframe with video names and sizes\n",
    "df_names_sizes = pd.DataFrame(data_names_sizes)"
   ]
  },
  {
   "cell_type": "code",
   "execution_count": 12,
   "id": "4a53df27-1fba-440c-88cb-6445462d22de",
   "metadata": {
    "scrolled": true
   },
   "outputs": [],
   "source": [
    "#sort by size\n",
    "df_sorted = df_names_sizes.sort_values(by='Video Sizes', ascending=False)"
   ]
  },
  {
   "cell_type": "code",
   "execution_count": 13,
   "id": "1cec965d-fe2a-449d-9d5e-f96935ebd1e2",
   "metadata": {},
   "outputs": [],
   "source": [
    "#first twenty tracks\n",
    "twenty_largest_tracks = df_sorted.head(20)"
   ]
  },
  {
   "cell_type": "code",
   "execution_count": 14,
   "id": "f104e780-f942-436e-bd97-7eabf4132734",
   "metadata": {},
   "outputs": [],
   "source": [
    "#turn into list\n",
    "track_list = list(twenty_largest_tracks['Video Names'])\n",
    "\n",
    "#aggregate rest of the tracks\n",
    "\n",
    "remaining_tracks = df_sorted.iloc[20:]\n",
    "remaining_tracks = remaining_tracks['Video Names'].tolist()\n",
    "\n",
    "#pick random 20 videos from remaining tracks\n",
    "from random import sample, seed\n",
    "seed(123)\n",
    "samplevideos = sample(remaining_tracks, 20)\n",
    "\n",
    "#add list of 20 random videos to track list\n",
    "for video in samplevideos:\n",
    "    track_list.append(video)"
   ]
  },
  {
   "cell_type": "code",
   "execution_count": 15,
   "id": "2a46d2f0-f996-481f-9dcc-81db124adf74",
   "metadata": {},
   "outputs": [],
   "source": [
    "#clean names and create an 'uncleaned' copy\n",
    "\n",
    "uncleaned_track_list = []\n",
    "\n",
    "for i in range(0, len(track_list)):\n",
    "    if '/' in track_list[i]:\n",
    "        index = track_list[i].find('/')\n",
    "        withmp4 = track_list[i][index + 1:]\n",
    "        track_list[i] = withmp4\n",
    "        uncleaned_track_list.append(withmp4)\n",
    "            \n",
    "    if '.mp4' in track_list[i]:\n",
    "        index2 = track_list[i].find('.mp4')\n",
    "        track_list[i] = track_list[i][: index2]"
   ]
  },
  {
   "cell_type": "code",
   "execution_count": 17,
   "id": "e6ff6266-670f-453e-96d8-4a03bba38453",
   "metadata": {},
   "outputs": [
    {
     "name": "stdin",
     "output_type": "stream",
     "text": [
      "Input the path for a new folder. /Users/abigailgrassick/Desktop\n",
      "Input the name for the new folder. test_output\n"
     ]
    },
    {
     "name": "stdout",
     "output_type": "stream",
     "text": [
      "Error: The folder already exists.\n"
     ]
    }
   ],
   "source": [
    "#create a new folder using os\n",
    "# Specify the path for the new folder with user input\n",
    "folder_path_input = input(\"Input the path for a new folder.\").strip()\n",
    "\n",
    "#Check if input already exists\n",
    "\n",
    "folder_name_input = input(\"Input the name for the new folder.\").strip()\n",
    "\n",
    "try: \n",
    "    # Combine the folder path and folder name if it works properly\n",
    "    full_path = os.path.join(folder_path_input, folder_name_input)\n",
    "    folder = os.makedirs(full_path)\n",
    "        \n",
    "except FileExistsError:\n",
    "    print(\"Error: The folder already exists.\")\n",
    "except Exception as e:\n",
    "    print(\"Unexpected error.\")"
   ]
  },
  {
   "cell_type": "code",
   "execution_count": 20,
   "id": "633a53c5-e1e3-46f1-839b-1a059e6444e9",
   "metadata": {},
   "outputs": [],
   "source": [
    "#add the track list of 40 videos to the new folder. \n",
    "for videoname in uncleaned_track_list:\n",
    "    # Find matching files in the zip file\n",
    "    matched_files = [f for f in openfile.namelist() if os.path.basename(f) == videoname]\n",
    "    \n",
    "    if matched_files:\n",
    "        for match in matched_files:\n",
    "            extracted_path = openfile.extract(match, full_path)\n",
    "            final_destination = os.path.join(full_path, os.path.basename(match))\n",
    "            \n",
    "            if extracted_path != final_destination:  # Move the file if it's in a subdirectory\n",
    "                shutil.move(extracted_path, final_destination)\n",
    "            \n",
    "            print(f\"copied {match} to {final_destination}\")\n",
    "    else:\n",
    "        print(f\"File not found in zip: {videoname}\")"
   ]
  },
  {
   "cell_type": "code",
   "execution_count": null,
   "id": "242d589a-2fda-4042-b7c1-7230154d296a",
   "metadata": {},
   "outputs": [],
   "source": []
  }
 ],
 "metadata": {
  "kernelspec": {
   "display_name": "Python 3 (ipykernel)",
   "language": "python",
   "name": "python3"
  },
  "language_info": {
   "codemirror_mode": {
    "name": "ipython",
    "version": 3
   },
   "file_extension": ".py",
   "mimetype": "text/x-python",
   "name": "python",
   "nbconvert_exporter": "python",
   "pygments_lexer": "ipython3",
   "version": "3.12.3"
  }
 },
 "nbformat": 4,
 "nbformat_minor": 5
}
